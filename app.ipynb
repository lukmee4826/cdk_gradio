{
 "cells": [
  {
   "cell_type": "code",
   "execution_count": 34,
   "metadata": {},
   "outputs": [
    {
     "name": "stdout",
     "output_type": "stream",
     "text": [
      "* Running on local URL:  http://127.0.0.1:7875\n",
      "\n",
      "To create a public link, set `share=True` in `launch()`.\n"
     ]
    },
    {
     "data": {
      "text/html": [
       "<div><iframe src=\"http://127.0.0.1:7875/\" width=\"100%\" height=\"500\" allow=\"autoplay; camera; microphone; clipboard-read; clipboard-write;\" frameborder=\"0\" allowfullscreen></iframe></div>"
      ],
      "text/plain": [
       "<IPython.core.display.HTML object>"
      ]
     },
     "metadata": {},
     "output_type": "display_data"
    },
    {
     "data": {
      "text/plain": []
     },
     "execution_count": 34,
     "metadata": {},
     "output_type": "execute_result"
    },
    {
     "name": "stderr",
     "output_type": "stream",
     "text": [
      "c:\\Users\\Lukme\\AppData\\Local\\Programs\\Python\\Python312\\Lib\\site-packages\\transformers\\pipelines\\text_classification.py:106: UserWarning: `return_all_scores` is now deprecated,  if want a similar functionality use `top_k=None` instead of `return_all_scores=True` or `top_k=1` instead of `return_all_scores=False`.\n",
      "  warnings.warn(\n"
     ]
    }
   ],
   "source": [
    "import gradio as gr\n",
    "from transformers import pipeline\n",
    "\n",
    "# Load transformers pipeline from a local directory (model)\n",
    "clf = pipeline(\"sentiment-analysis\", model=\"model/\")\n",
    "\n",
    "# Predict function used by Gradio\n",
    "def sentiment(payload):\n",
    "    prediction = clf(payload, return_all_scores=True)\n",
    "    # Convert list to dict\n",
    "    result = {}\n",
    "    for pred in prediction[0]:\n",
    "        result[pred[\"label\"]] = pred[\"score\"]\n",
    "    return result\n",
    "\n",
    "# Build the Gradio app\n",
    "with gr.Blocks() as gradio_app:\n",
    "    gr.Markdown(\"### Sentiment Analysis\")\n",
    "    text_input = gr.Textbox(placeholder=\"Enter a positive or negative sentence here...\")\n",
    "    output_label = gr.Label()\n",
    "    examples = gr.Examples(\n",
    "        examples=[\"I Love Serverless Machine Learning\", \"Running Gradio on AWS Lambda is amazing\"],\n",
    "        inputs=text_input\n",
    "    )\n",
    "    classify_button = gr.Button(\"Analyze Sentiment\")\n",
    "    \n",
    "    classify_button.click(fn=sentiment, inputs=text_input, outputs=output_label)\n",
    "\n",
    "# Run the app\n",
    "gradio_app.launch()\n"
   ]
  },
  {
   "cell_type": "code",
   "execution_count": null,
   "metadata": {},
   "outputs": [],
   "source": []
  }
 ],
 "metadata": {
  "kernelspec": {
   "display_name": "Python 3",
   "language": "python",
   "name": "python3"
  },
  "language_info": {
   "codemirror_mode": {
    "name": "ipython",
    "version": 3
   },
   "file_extension": ".py",
   "mimetype": "text/x-python",
   "name": "python",
   "nbconvert_exporter": "python",
   "pygments_lexer": "ipython3",
   "version": "3.12.5"
  }
 },
 "nbformat": 4,
 "nbformat_minor": 2
}
